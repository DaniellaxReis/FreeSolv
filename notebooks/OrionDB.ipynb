{
 "cells": [
  {
   "cell_type": "code",
   "execution_count": 1,
   "metadata": {
    "collapsed": true
   },
   "outputs": [],
   "source": [
    "import os, glob, json, pickle\n",
    "from openeye import *"
   ]
  },
  {
   "cell_type": "code",
   "execution_count": 2,
   "metadata": {
    "collapsed": false
   },
   "outputs": [
    {
     "data": {
      "text/plain": [
       "0"
      ]
     },
     "execution_count": 2,
     "metadata": {},
     "output_type": "execute_result"
    }
   ],
   "source": [
    "#Extract the mol2 files\n",
    "os.system('tar -xvzf ../mol2files_gaff.tar.gz')"
   ]
  },
  {
   "cell_type": "code",
   "execution_count": 3,
   "metadata": {
    "collapsed": false
   },
   "outputs": [],
   "source": [
    "#Load in our input files\n",
    "mol2files = sorted(glob.glob('mol2files_gaff/*.mol2'))\n",
    "dbfile = open('../database.json')\n",
    "db = json.load(dbfile)"
   ]
  },
  {
   "cell_type": "code",
   "execution_count": 4,
   "metadata": {
    "collapsed": true
   },
   "outputs": [],
   "source": [
    "#Initialize our outputfile\n",
    "outfname = 'freesolv.oeb.gz'\n",
    "ofs = oemolostream()\n",
    "if not ofs.open(outfname):\n",
    "    OEThrow.Fatal(\"Unable to open %s for writing\" % outfname)"
   ]
  },
  {
   "cell_type": "code",
   "execution_count": 5,
   "metadata": {
    "collapsed": false
   },
   "outputs": [],
   "source": [
    "#Loop over mol2 files\n",
    "omol = OEGraphMol()    \n",
    "for mol2 in mol2files:\n",
    "    fname = mol2.split('/')[-1]\n",
    "    label = fname.split('.mol2')[0]\n",
    "\n",
    "    with oemolistream(mol2) as ifs:\n",
    "        for imol in ifs.GetOEGraphMols():\n",
    "            # Add label tag\n",
    "            imol.SetData(OEGetTag('label'), label)\n",
    "            \n",
    "            # Attach each field as a new tag\n",
    "            for k,v in sorted(db[label].items()):\n",
    "                #print(label,k,v)\n",
    "                imol.SetData(OEGetTag(k), v)\n",
    "            \n",
    "            # Encode entire dict for each mol\n",
    "            data = json.dumps(db[label])\n",
    "            imol.SetData(OEGetTag('database'), data)\n",
    "            \n",
    "            OEWriteMolecule(ofs, imol)\n",
    "            \n",
    "ofs.close()"
   ]
  },
  {
   "cell_type": "code",
   "execution_count": 8,
   "metadata": {
    "collapsed": false
   },
   "outputs": [],
   "source": [
    "# Check that our database is unchanged\n",
    "with oemolistream(outfname) as ifs:\n",
    "    for imol in ifs.GetOEGraphMols():\n",
    "        #print(imol.GetData().keys())\n",
    "        label = (imol.GetData('label'))\n",
    "        dbfile = imol.GetData('database')\n",
    "        \n",
    "        reconst_db = json.loads(dbfile)\n",
    "        assert db[label] == reconst_db"
   ]
  }
 ],
 "metadata": {
  "anaconda-cloud": {},
  "kernelspec": {
   "display_name": "Python [conda env:icebox]",
   "language": "python",
   "name": "conda-env-icebox-py"
  },
  "language_info": {
   "codemirror_mode": {
    "name": "ipython",
    "version": 3
   },
   "file_extension": ".py",
   "mimetype": "text/x-python",
   "name": "python",
   "nbconvert_exporter": "python",
   "pygments_lexer": "ipython3",
   "version": "3.5.2"
  }
 },
 "nbformat": 4,
 "nbformat_minor": 1
}
