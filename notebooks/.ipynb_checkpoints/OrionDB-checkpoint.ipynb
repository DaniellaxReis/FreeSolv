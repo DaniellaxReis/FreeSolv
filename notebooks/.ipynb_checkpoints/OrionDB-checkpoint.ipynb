{
 "cells": [
  {
   "cell_type": "code",
   "execution_count": 34,
   "metadata": {
    "collapsed": true
   },
   "outputs": [],
   "source": [
    "import os, glob, json, pickle\n",
    "from openeye import *"
   ]
  },
  {
   "cell_type": "code",
   "execution_count": 35,
   "metadata": {
    "collapsed": false
   },
   "outputs": [],
   "source": [
    "mol2files = sorted(glob.glob('../mol2files_gaff/*.mol2'))\n",
    "dbfile = open('../database.json')\n",
    "db = json.load(dbfile)"
   ]
  },
  {
   "cell_type": "code",
   "execution_count": 36,
   "metadata": {
    "collapsed": false
   },
   "outputs": [],
   "source": [
    "outfname = 'freesolv.oeb.gz'\n",
    "ofs = oemolostream()\n",
    "if not ofs.open(outfname):\n",
    "    OEThrow.Fatal(\"Unable to open %s for writing\" % outfname)\n",
    "    \n",
    "omol = OEGraphMol()    \n",
    "for mol2 in mol2files:\n",
    "    fname = mol2.split('/')[-1]\n",
    "    label = fname.split('.mol2')[0]\n",
    "\n",
    "    with oemolistream(mol2) as ifs:\n",
    "        for imol in ifs.GetOEGraphMols():\n",
    "            # Add label tag\n",
    "            imol.SetData(OEGetTag('label'), label)\n",
    "            \n",
    "            # Attach each field as a new tag\n",
    "            for k,v in sorted(db[label].items()):\n",
    "                #print(label,k,v)\n",
    "                imol.SetData(OEGetTag(k), v)\n",
    "            \n",
    "            # Encode entire dict for each mol\n",
    "            data = json.dumps(db[label])\n",
    "            imol.SetData(OEGetTag('database'), data)\n",
    "            \n",
    "            OEWriteMolecule(ofs, imol)\n",
    "            \n",
    "ofs.close()"
   ]
  },
  {
   "cell_type": "code",
   "execution_count": 42,
   "metadata": {
    "collapsed": false
   },
   "outputs": [
    {
     "name": "stdout",
     "output_type": "stream",
     "text": [
      "dict_keys(['expt_s (cal/K.mol)', 'h_conf', 'calc_charging', 'calc_h', 'd_calc', 'calc_s (cal/mol.K)', 'h_solv', 'd_vdw', 'd_calc_h', 'd_h_conf', 'nickname', 'expt', 'expt_h_reference', 'd_h_solv', 'PubChemID', 'label', 'd_expt_h', 'expt_h', 'calc', 'd_expt_s (cal/K.mol)', 'expt_reference', 'd_expt', 'd_calc_s (cal/mol.K)', 'database', 'iupac', 'smiles', 'calc_reference', 'calc_vdw', 'd_charging'])\n",
      "dict_keys(['expt_s (cal/K.mol)', 'h_conf', 'calc_charging', 'calc_h', 'd_calc', 'calc_s (cal/mol.K)', 'h_solv', 'd_vdw', 'd_calc_h', 'd_h_conf', 'nickname', 'expt', 'expt_h_reference', 'd_h_solv', 'PubChemID', 'label', 'd_expt_h', 'expt_h', 'calc', 'd_expt_s (cal/K.mol)', 'expt_reference', 'd_expt', 'd_calc_s (cal/mol.K)', 'database', 'iupac', 'smiles', 'calc_reference', 'calc_vdw', 'd_charging'])\n",
      "dict_keys(['expt_s (cal/K.mol)', 'h_conf', 'calc_charging', 'calc_h', 'd_calc', 'calc_s (cal/mol.K)', 'h_solv', 'd_vdw', 'd_calc_h', 'd_h_conf', 'nickname', 'expt', 'expt_h_reference', 'd_h_solv', 'PubChemID', 'label', 'd_expt_h', 'expt_h', 'calc', 'd_expt_s (cal/K.mol)', 'expt_reference', 'd_expt', 'd_calc_s (cal/mol.K)', 'database', 'iupac', 'smiles', 'calc_reference', 'calc_vdw', 'd_charging'])\n"
     ]
    }
   ],
   "source": [
    "with oemolistream(outfname) as ifs:\n",
    "    for imol in ifs.GetOEGraphMols():\n",
    "        #print(imol.GetData().keys())\n",
    "        label = (imol.GetData('label'))\n",
    "        dbfile = imol.GetData('database')\n",
    "        reconst_db = json.loads(dbfile)\n",
    "        \n",
    "        assert db[label] == reconst_db"
   ]
  },
  {
   "cell_type": "code",
   "execution_count": 41,
   "metadata": {
    "collapsed": false
   },
   "outputs": [
    {
     "name": "stdout",
     "output_type": "stream",
     "text": [
      "-rw-r--r-- 1 limn1 limn1 3.0K Feb 15 17:36 \u001b[0m\u001b[01;31mfreesolv.oeb.gz\u001b[0m\r\n"
     ]
    }
   ],
   "source": [
    "%ls -lh freesolv.oeb.gz"
   ]
  }
 ],
 "metadata": {
  "anaconda-cloud": {},
  "kernelspec": {
   "display_name": "Python [conda env:icebox]",
   "language": "python",
   "name": "conda-env-icebox-py"
  },
  "language_info": {
   "codemirror_mode": {
    "name": "ipython",
    "version": 3
   },
   "file_extension": ".py",
   "mimetype": "text/x-python",
   "name": "python",
   "nbconvert_exporter": "python",
   "pygments_lexer": "ipython3",
   "version": "3.5.2"
  }
 },
 "nbformat": 4,
 "nbformat_minor": 1
}
